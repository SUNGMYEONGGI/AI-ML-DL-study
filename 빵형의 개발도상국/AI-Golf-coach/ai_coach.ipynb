{
  "nbformat": 4,
  "nbformat_minor": 0,
  "metadata": {
    "colab": {
      "provenance": [],
      "collapsed_sections": [],
      "mount_file_id": "1mdKfQtlo1x1cDQR1ooqvPFDqugcI4lDG",
      "authorship_tag": "ABX9TyPNJirQCajZ0OWGWt+/ROOQ",
      "include_colab_link": true
    },
    "kernelspec": {
      "name": "python3",
      "display_name": "Python 3"
    },
    "language_info": {
      "name": "python"
    },
    "accelerator": "GPU"
  },
  "cells": [
    {
      "cell_type": "markdown",
      "metadata": {
        "id": "view-in-github",
        "colab_type": "text"
      },
      "source": [
        "<a href=\"https://colab.research.google.com/github/SUNGMYEONGGI/AI-Golf-coach/blob/main/ai_coach.ipynb\" target=\"_parent\"><img src=\"https://colab.research.google.com/assets/colab-badge.svg\" alt=\"Open In Colab\"/></a>"
      ]
    },
    {
      "cell_type": "code",
      "execution_count": 3,
      "metadata": {
        "id": "W4b0BAtYBSoc"
      },
      "outputs": [],
      "source": [
        "import cv2\n",
        "import mediapipe as mp"
      ]
    },
    {
      "cell_type": "code",
      "source": [
        "mp_drawing = mp.solutions.drawing_utils\n",
        "mp_drawing_styles = mp.solutions.drawing_styles\n",
        "mp_pose = mp.solutions.pose"
      ],
      "metadata": {
        "id": "JiEkmKllBhNj"
      },
      "execution_count": 4,
      "outputs": []
    },
    {
      "cell_type": "code",
      "source": [
        "# 영상을 로드\n",
        "video_path = '01.mp4'\n",
        "cap = cv2.VideoCapture(video_path)"
      ],
      "metadata": {
        "id": "WxrD0uq4By2Y"
      },
      "execution_count": 5,
      "outputs": []
    },
    {
      "cell_type": "code",
      "source": [
        "# 결과 영상을 저장\n",
        "fourcc = cv2.VideoWriter_fourcc('m', 'p', '4', 'v')\n",
        "out = cv2.VideoWriter('%s_output.mp4' % (video_path.split('.')[0]), fourcc, cap.get(cv2.CAP_PROP_FPS), \n",
        "                      (int(cap.get(cv2.CAP_PROP_FRAME_WIDTH)), int(cap.get(cv2.CAP_PROP_FRAME_HEIGHT))))\n",
        "# \n",
        "pose = mp_pose.Pose(  \n",
        "    min_detection_confidence=0.5,\n",
        "    min_tracking_confidence=0.5,\n",
        "    model_complexity=2\n",
        ")\n",
        "\n",
        "is_first = True # 어드레스 시 첫 프레임을 받아오기 위한 플래그\n",
        "# 어드레스 시 첫 프레임의 좌표를 저장할 변수\n",
        "first_center_x, first_center_y, first_radius = None, None, None"
      ],
      "metadata": {
        "colab": {
          "base_uri": "https://localhost:8080/"
        },
        "id": "DqmVPXHOCBa0",
        "outputId": "e6ae3731-11f6-46f9-9fd6-aa2688eb6625"
      },
      "execution_count": 8,
      "outputs": [
        {
          "output_type": "stream",
          "name": "stdout",
          "text": [
            "Downloading model to /usr/local/lib/python3.7/dist-packages/mediapipe/modules/pose_landmark/pose_landmark_heavy.tflite\n"
          ]
        }
      ]
    },
    {
      "cell_type": "code",
      "source": [
        "while cap.isOpened():\n",
        "    ret, img = cap.read()\n",
        "    if not ret:\n",
        "        break\n",
        "\n",
        "    img_h, img_w, _ = img.shape\n",
        "\n",
        "    img_result = img.copy()\n",
        "\n",
        "    img = cv2.cvtColor(img, cv2.COLOR_BGR2RGB)\n",
        "    results = pose.process(img)\n",
        "\n",
        "    # 관절 위치 그리기\n",
        "    mp_drawing.draw_landmarks(\n",
        "        img_result,\n",
        "        results.pose_landmarks,\n",
        "        mp_pose.POSE_CONNECTIONS,\n",
        "        landmark_drawing_spec = mp_drawing_styles.get_default_pose_landmarks_style())\n",
        "    \n",
        "    if results.pose_landmarks:\n",
        "        landmark =results.pose_landmarks.landmark\n",
        "\n",
        "        left_ear_x = landmark[mp_pose.PoseLandmark.LEFT_EAR].x * img_w\n",
        "        left_ear_y = landmark[mp_pose.PoseLandmark.LEFT_EAR].y * img_h\n",
        "        \n",
        "        right_ear_x = landmark[mp_pose.PoseLandmark.RIGHT_EAR].x * img_w\n",
        "        right_ear_y = landmark[mp_pose.PoseLandmark.RIGHT_EAR].y * img_h\n",
        "        \n",
        "        center_x = int((left_ear_x + right_ear_x) /2)\n",
        "        center_y = int((left_ear_y + right_ear_y) /2)\n",
        "\n",
        "        radius = int((left_ear_x - right_ear_x) / 2)\n",
        "        radius = max(radius, 20)\n",
        "\n",
        "        if is_first: # 어드레스 시 첫 프레임의 머리 좌표 저장\n",
        "            first_center_x = center_x\n",
        "            first_center_y = center_y\n",
        "            first_radius = int(radius * 2)\n",
        "\n",
        "            is_first = False\n",
        "        else:\n",
        "            cv2.circle(img_result, center=(first_center_x, first_center_y),\n",
        "                       radius=first_radius, color=(0, 255, 255), thickness=2)\n",
        "            \n",
        "            color = (0, 255, 0) # 초록색\n",
        "\n",
        "            # 머리가 원래 위치보다 많이 벗어난 경우\n",
        "            if center_x - radius < first_center_x - first_radius \\\n",
        "                or center_x + radius > first_center_x + first_radius:\n",
        "                color = (0, 0, 255)\n",
        "\n",
        "            cv2.circle(img_result, center=(center_x, center_y),\n",
        "                       radius=radius, color=color, thickness=2)\n",
        "            \n",
        "        cv2.imshow('AI Golf Coach', img_result)\n",
        "        out.write(img_result)\n",
        "\n",
        "        if cv2.waitKey(1) == ord('q'):\n",
        "            break\n",
        "    \n",
        "    pose.close()\n",
        "    cap.release()\n",
        "    out.release()"
      ],
      "metadata": {
        "id": "oQxHAixlEbKT"
      },
      "execution_count": 9,
      "outputs": []
    }
  ]
}