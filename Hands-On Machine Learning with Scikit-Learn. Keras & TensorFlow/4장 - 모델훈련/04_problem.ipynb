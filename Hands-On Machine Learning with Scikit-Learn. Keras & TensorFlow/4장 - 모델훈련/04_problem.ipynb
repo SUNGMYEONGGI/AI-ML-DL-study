{
 "cells": [
  {
   "cell_type": "code",
   "execution_count": null,
   "metadata": {},
   "outputs": [],
   "source": []
  }
 ],
 "metadata": {
  "kernelspec": {
   "display_name": "Python 3",
   "language": "python",
   "name": "python3"
  },
  "language_info": {
   "name": "python",
   "version": "3.11.0 (main, Oct 24 2022, 18:26:48) [MSC v.1933 64 bit (AMD64)]"
  },
  "orig_nbformat": 4,
  "vscode": {
   "interpreter": {
    "hash": "fd9d2eeda3f8f3a3af93ca0898cd45ad3332c8fb1dfbe9a85002fb781009e733"
   }
  }
 },
 "nbformat": 4,
 "nbformat_minor": 2
}
